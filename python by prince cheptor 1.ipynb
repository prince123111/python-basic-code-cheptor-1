{
 "cells": [
  {
   "cell_type": "code",
   "execution_count": 1,
   "id": "8a4b6593",
   "metadata": {},
   "outputs": [
    {
     "name": "stdout",
     "output_type": "stream",
     "text": [
      "Hello World!\n"
     ]
    }
   ],
   "source": [
    "print(\"Hello World!\")"
   ]
  },
  {
   "cell_type": "code",
   "execution_count": 2,
   "id": "8e8642cd",
   "metadata": {},
   "outputs": [
    {
     "data": {
      "text/plain": [
       "'Python'"
      ]
     },
     "execution_count": 2,
     "metadata": {},
     "output_type": "execute_result"
    }
   ],
   "source": [
    "x=\"Python\"\n",
    "x"
   ]
  },
  {
   "cell_type": "code",
   "execution_count": 4,
   "id": "2a9297c7",
   "metadata": {},
   "outputs": [
    {
     "name": "stdout",
     "output_type": "stream",
     "text": [
      "This is true\n"
     ]
    }
   ],
   "source": [
    "x=10\n",
    "if x>5:\n",
    "    print(\"This is true\")"
   ]
  },
  {
   "cell_type": "code",
   "execution_count": null,
   "id": "26ef8678",
   "metadata": {},
   "outputs": [],
   "source": []
  },
  {
   "cell_type": "code",
   "execution_count": null,
   "id": "8db2d674",
   "metadata": {},
   "outputs": [],
   "source": []
  },
  {
   "cell_type": "code",
   "execution_count": 5,
   "id": "f2b7d678",
   "metadata": {},
   "outputs": [],
   "source": [
    "x=10\n",
    "if x<5:\n",
    "    print(\"This is true\")\n",
    "    "
   ]
  },
  {
   "cell_type": "code",
   "execution_count": 7,
   "id": "142f05a9",
   "metadata": {},
   "outputs": [
    {
     "name": "stdout",
     "output_type": "stream",
     "text": [
      "Good Morning !\n"
     ]
    }
   ],
   "source": [
    "x=10\n",
    "if x>=10:\n",
    "    print(\"Good Morning !\")"
   ]
  },
  {
   "cell_type": "code",
   "execution_count": 8,
   "id": "de01fbef",
   "metadata": {},
   "outputs": [
    {
     "name": "stdout",
     "output_type": "stream",
     "text": [
      "This is Wrong!\n"
     ]
    }
   ],
   "source": [
    "x=5\n",
    "if x>10:\n",
    "    print(\"This is True!\")\n",
    "else:\n",
    "    print(\"This is Wrong!\")\n",
    "    "
   ]
  },
  {
   "cell_type": "code",
   "execution_count": 11,
   "id": "942a99f0",
   "metadata": {},
   "outputs": [
    {
     "name": "stdout",
     "output_type": "stream",
     "text": [
      "Enter any number :4\n",
      "4 Is Less then 5\n"
     ]
    }
   ],
   "source": [
    "x=int(input(\"Enter any number :\"))\n",
    "if x > 5:\n",
    "    print(x,\"Is Greater then 5\")\n",
    "elif x==5:\n",
    "    print(x,\"Is Equall to 5\")\n",
    "else:\n",
    "    print(x,\"Is Less then 5\")\n",
    "    "
   ]
  },
  {
   "cell_type": "code",
   "execution_count": 15,
   "id": "690148a6",
   "metadata": {},
   "outputs": [
    {
     "name": "stdout",
     "output_type": "stream",
     "text": [
      "enter first number :-89\n",
      "enter second number :-78\n",
      "enter third number :-90\n",
      "90 is Gretest Number!\n"
     ]
    }
   ],
   "source": [
    "#Take three number and find among gratest number.\n",
    "x=int(input(\"enter first number :-\"))\n",
    "y=int(input(\"enter second number :-\"))\n",
    "z=int(input(\"enter third number :-\"))\n",
    "if x>y and x>z:\n",
    "    print(x,\"is Gretest number!\")\n",
    "elif y>x and y>z:\n",
    "    print(y,\"is gretest Number!\")\n",
    "else:\n",
    "    print(z,\"is Gretest Number!\")"
   ]
  },
  {
   "cell_type": "code",
   "execution_count": 16,
   "id": "8ad83810",
   "metadata": {},
   "outputs": [
    {
     "data": {
      "text/plain": [
       "'prince kumar sharma'"
      ]
     },
     "execution_count": 16,
     "metadata": {},
     "output_type": "execute_result"
    }
   ],
   "source": [
    "#Python idention => Idention refer to the space of the begning of a code line\n",
    "# Idention rules means four sapce or one tab\n",
    "\n",
    "#What is variable in python ?\n",
    "#A Variable can have a sort name or a more discriptive Name\n",
    "\n",
    "#Few condition of variable \n",
    "#1.It must start with a letter or The underscore charactor\n",
    "#2. A Variable name can not be start with a Number.\n",
    "\n",
    "\n",
    "x=\"prince kumar sharma\"\n",
    "print(x)"
   ]
  },
  {
   "cell_type": "code",
   "execution_count": 19,
   "id": "c9d1620e",
   "metadata": {},
   "outputs": [
    {
     "name": "stdout",
     "output_type": "stream",
     "text": [
      "monday\n",
      "Sunday\n",
      "tuesday\n"
     ]
    }
   ],
   "source": [
    "x,y,z=\"Sunday\",\"monday\",\"tuesday\"\n",
    "print(y),print(x)\n",
    "print(z)"
   ]
  },
  {
   "cell_type": "code",
   "execution_count": 23,
   "id": "3dccdccc",
   "metadata": {},
   "outputs": [
    {
     "name": "stdout",
     "output_type": "stream",
     "text": [
      "prince\n",
      "<class 'str'>\n",
      "25\n",
      "<class 'int'>\n",
      "45.78\n",
      "<class 'float'>\n",
      "21j\n",
      "<class 'complex'>\n"
     ]
    }
   ],
   "source": [
    "#Python Data Types\n",
    "#In Programing data types is an Important Consept\n",
    "#Variable can store data of diffrent types diffrent types can do diffrent things.\n",
    "\n",
    "\n",
    "#Python Has the following data types.\n",
    "'''\n",
    "1.Text Types    :    str(string)\n",
    "2.Numeric Types  :   int,float,Complex\n",
    "3.Sequence Types :   List,tuple,range\n",
    "4.Mapping Types  :   Dict(Dictionary)\n",
    "5.Set Types      :   set, frozenset\n",
    "6.Boolen types   :    Bool(True,False and None)\n",
    "7.Binary Types   :   bytes , Memory View'''\n",
    "  \n",
    "# print(type(x))  # With the help of this key we can find the types of data.   \n",
    "\n",
    "\n",
    "#Text type data\n",
    "#Numeric Types data\n",
    "    \n",
    "#1.String  str Number\n",
    "x=\"prince\"\n",
    "print(x)\n",
    "print(type(x))\n",
    "\n",
    "\n",
    "# Integer int Number\n",
    "y=25\n",
    "print(y)\n",
    "print(type(y))\n",
    "\n",
    "#Float Number\n",
    "z=45.78\n",
    "print(z)\n",
    "print(type(z))\n",
    "\n",
    "#Complex Number\n",
    "w=21j\n",
    "print(w)\n",
    "print(type(w))"
   ]
  },
  {
   "cell_type": "code",
   "execution_count": null,
   "id": "e251df18",
   "metadata": {},
   "outputs": [],
   "source": [
    "\n",
    "#Python operators\n",
    "#Operator are used to perform operation on variables and values\n",
    "\n",
    "#How many Types of operator?\n",
    "#There are seven types of operators\n",
    "\n",
    "'''\n",
    "1. Airthmetic operator\n",
    "2. Assigment operator\n",
    "3. Comperision operator\n",
    "4. Logical operator\n",
    "5. Identity operator\n",
    "6. Membership operator\n",
    "7. Bitwise operator'''\n",
    "\n"
   ]
  },
  {
   "cell_type": "code",
   "execution_count": null,
   "id": "992ae63e",
   "metadata": {},
   "outputs": [],
   "source": [
    "# 1. Airthmetic operator \n",
    "#=> Airthmetic operator are used with numeric values to perform common mathemarical operator\n",
    "\n",
    "# There are Seven types of Airthmetic operators.\n",
    "'''\n",
    "Si No.     Operator       Name                        Example\n",
    "1            +          Addition                     x+y  or 8+9\n",
    "2            -          Substraction                 x-y  or 8-7\n",
    "3            *          Multiplication               x*y  or 5*7\n",
    "4            /          Division                     x/y  or 25/5\n",
    "5            %          Modules                      x%y  or 49%5\n",
    "6            **         Exponentation                x**y or 5**3\n",
    "7            //         Floor Division               x//y or 79//10\n",
    "'''\n"
   ]
  },
  {
   "cell_type": "code",
   "execution_count": 5,
   "id": "205c2bbc",
   "metadata": {},
   "outputs": [
    {
     "name": "stdout",
     "output_type": "stream",
     "text": [
      "30\n",
      "30\n",
      "40\n",
      "25\n",
      "25\n",
      "26\n",
      "240\n",
      "240\n",
      "120\n",
      "10.0\n",
      "10.0\n",
      "5.0\n"
     ]
    }
   ],
   "source": [
    "# 1.Addition (+)\n",
    "\n",
    "x=10\n",
    "y=20\n",
    "z=x+y\n",
    "print(z)\n",
    "print(x+y)\n",
    "print(15+25)\n",
    "\n",
    "\n",
    "# 2.Substraction (-)\n",
    "\n",
    "x=50\n",
    "y=25\n",
    "z=x-y\n",
    "print(z)\n",
    "print(x-y)\n",
    "print(50-24)\n",
    "\n",
    "\n",
    "# 3. Multiplication (*)\n",
    "\n",
    "x=12\n",
    "y=20\n",
    "z=x*y\n",
    "print(z)\n",
    "print(x*y)\n",
    "print(12*10)\n",
    "\n",
    "\n",
    "# 4. Division (/)\n",
    "\n",
    "x=120\n",
    "y=12\n",
    "z=x/y\n",
    "print(z)\n",
    "print(x/y)\n",
    "print(125/25)"
   ]
  },
  {
   "cell_type": "code",
   "execution_count": 15,
   "id": "66e0ea5a",
   "metadata": {},
   "outputs": [
    {
     "name": "stdout",
     "output_type": "stream",
     "text": [
      "7\n",
      "7\n",
      "7\n",
      "125\n",
      "125\n",
      "125\n",
      "4\n",
      "4\n",
      "4\n"
     ]
    }
   ],
   "source": [
    "\n",
    "# 5. Modules (%) => Its show the reminder after the divison is called Modules.\n",
    "\n",
    "x=47\n",
    "y=10\n",
    "z=x%y\n",
    "print(z)\n",
    "#  (or)\n",
    "print(x%y)\n",
    "#  (or)\n",
    "print(47%10)\n",
    "\n",
    "\n",
    "# 6. Exponentation (**) => Its show the number square of the nuber [First number is base number and second is power number]\n",
    "\n",
    "x=5\n",
    "y=3\n",
    "z=x**y\n",
    "print(z)\n",
    "#   (or)\n",
    "print(x**y)\n",
    "#   (or)\n",
    "print(5**3)\n",
    "\n",
    "\n",
    "# 7. Floor Division (//)  => Its show the quitent  before the decimal of number.\n",
    "\n",
    "x=48\n",
    "y=10\n",
    "z=x//y\n",
    "print(z)\n",
    "#   (or)\n",
    "print(x//y)\n",
    "#    (or)\n",
    "print(48//10)\n"
   ]
  },
  {
   "cell_type": "code",
   "execution_count": 17,
   "id": "3dce431c",
   "metadata": {},
   "outputs": [
    {
     "name": "stdout",
     "output_type": "stream",
     "text": [
      "15\n"
     ]
    }
   ],
   "source": [
    "# 2. Assigment operator\n",
    "'''\n",
    "       *Name of Assign                      Syntax\n",
    "    A. Add and Assign                         +=\n",
    "    B. Subtract and Assign                    -=\n",
    "    C. Multiply and Assign                    *=\n",
    "    D. Divide and Assign                      /=\n",
    "    E. Modules and Assign                     %=\n",
    "    F. Divide(Floor) and Assign              //= \n",
    "    G. Assign                                  =\n",
    "    '''\n",
    "    \n",
    "'''\n",
    "1) Assign: This operator is used to assign the value of the right side of the \n",
    "     expression to the left side operand.\n",
    "        \n",
    "2) Add and Assign:=> This operator is used to add the right side operand with the left \n",
    "    side operand  and then assigning the result to the left operand.\n",
    "    \n",
    "3) Subtract and Assign:=> This operator is used to subtract the right operand from \n",
    "    the left operand and then assigning the result to the left operand.\n",
    "    \n",
    "    \n",
    "4) Multiply and Assign:=> This operator is used to multiply the right operand with the\n",
    "    left operand and then assigning the result to the left operand.\n",
    "    \n",
    "    \n",
    "5) Divide and Assign:=> This operator is used to divide the left operand with the right\n",
    "    operand and then assigning the result to the left operand.\n",
    "    \n",
    "6) Modulus and Assign:=> This operator is used to take the modulus using the left and the right\n",
    "    operands and then assigning the result to the left operand.\n",
    "    \n",
    "7) Divide (floor) and Assign:=> This operator is used to divide the left operand with the right\n",
    "    operand and then assigning the result(floor) to the left operand.\n",
    "'''\n",
    "\n",
    "# Add and assign (+=)\n",
    "\n",
    "x=10\n",
    "y=5\n",
    "y+=x\n",
    "\n",
    "# (or)\n",
    "#y=y+x\n",
    "\n",
    "print(y)\n",
    "    \n",
    "\n"
   ]
  },
  {
   "cell_type": "code",
   "execution_count": 19,
   "id": "76965fd7",
   "metadata": {},
   "outputs": [
    {
     "name": "stdout",
     "output_type": "stream",
     "text": [
      "41\n"
     ]
    }
   ],
   "source": [
    "# Subtract and Assign (-=)\n",
    "x=45\n",
    "y=4\n",
    "x-=y\n",
    "print(x)"
   ]
  },
  {
   "cell_type": "code",
   "execution_count": 20,
   "id": "29c29970",
   "metadata": {},
   "outputs": [
    {
     "name": "stdout",
     "output_type": "stream",
     "text": [
      "40\n"
     ]
    }
   ],
   "source": [
    "# Multiply and assign (*=)\n",
    "x=10\n",
    "y=4\n",
    "y*=x\n",
    "print(y)"
   ]
  },
  {
   "cell_type": "code",
   "execution_count": 23,
   "id": "148b82d0",
   "metadata": {},
   "outputs": [
    {
     "name": "stdout",
     "output_type": "stream",
     "text": [
      "4.5\n"
     ]
    }
   ],
   "source": [
    "# Divide and assign (/=)\n",
    "x=45\n",
    "y=10\n",
    "x/=y\n",
    "print(x)"
   ]
  },
  {
   "cell_type": "code",
   "execution_count": 24,
   "id": "3ddadc07",
   "metadata": {},
   "outputs": [
    {
     "name": "stdout",
     "output_type": "stream",
     "text": [
      "5\n"
     ]
    }
   ],
   "source": [
    "# Modules and assign (%=)\n",
    "x=33\n",
    "y=7\n",
    "x%=y\n",
    "print(x)"
   ]
  },
  {
   "cell_type": "code",
   "execution_count": 32,
   "id": "69f8c444",
   "metadata": {},
   "outputs": [
    {
     "name": "stdout",
     "output_type": "stream",
     "text": [
      "5\n"
     ]
    }
   ],
   "source": [
    "# Divide (Floor)  (//=)\n",
    "x=29\n",
    "y=5\n",
    "x//=y\n",
    "print(x)"
   ]
  },
  {
   "cell_type": "code",
   "execution_count": 5,
   "id": "238eef5c",
   "metadata": {},
   "outputs": [
    {
     "name": "stdout",
     "output_type": "stream",
     "text": [
      "True\n",
      "False\n"
     ]
    }
   ],
   "source": [
    "# 3. Comperision operator\n",
    "'''\n",
    "Comparison operators are the operators that compare the values on either side of the symbol.\n",
    "Depending on their operation, these checks if the two operands satisfy the given condition. \n",
    "Then return either “True” or “False” based on the result. Thus, \n",
    "these are also called relational operators.\n",
    "\n",
    "In Python, there are six types of comparison operators:\n",
    "\n",
    "1. Less than (<)\n",
    "2. Greater than (>)\n",
    "3. Less than or equal to (<=)\n",
    "4. Greater than or equal to (>=)\n",
    "5. Equal to (==)\n",
    "6. Not equal to (!=)\n",
    "'''\n",
    "\n",
    "\n",
    "# 1. Less than (<)\n",
    "x=10\n",
    "y=15\n",
    "print(x<y)\n",
    "# or\n",
    "print(45<40)\n"
   ]
  },
  {
   "cell_type": "code",
   "execution_count": 7,
   "id": "925b8834",
   "metadata": {},
   "outputs": [
    {
     "name": "stdout",
     "output_type": "stream",
     "text": [
      "True\n",
      "False\n"
     ]
    }
   ],
   "source": [
    "# 2. Greater than (>)\n",
    "x=15\n",
    "y=14\n",
    "print(x>y)\n",
    "#   (or)\n",
    "print(15>17)"
   ]
  },
  {
   "cell_type": "code",
   "execution_count": 5,
   "id": "eb996619",
   "metadata": {},
   "outputs": [
    {
     "name": "stdout",
     "output_type": "stream",
     "text": [
      "True\n",
      "False\n"
     ]
    }
   ],
   "source": [
    "# 3. Less then or equal to  (<=)\n",
    "x=10\n",
    "y=20\n",
    "print(x<=y)\n",
    "#  (or)\n",
    "print(45<=40)"
   ]
  },
  {
   "cell_type": "code",
   "execution_count": 8,
   "id": "bc141c22",
   "metadata": {},
   "outputs": [
    {
     "name": "stdout",
     "output_type": "stream",
     "text": [
      "False\n",
      "True\n"
     ]
    }
   ],
   "source": [
    "# 4. Greater than or equal to  (>=)\n",
    "x=10\n",
    "y=20\n",
    "print(x>=y)\n",
    "#  (or)\n",
    "print(78>=70)"
   ]
  },
  {
   "cell_type": "code",
   "execution_count": 9,
   "id": "7c59699c",
   "metadata": {},
   "outputs": [
    {
     "name": "stdout",
     "output_type": "stream",
     "text": [
      "True\n",
      "False\n"
     ]
    }
   ],
   "source": [
    "#5. Equal to  (==)\n",
    "x=15\n",
    "y=15\n",
    "print(x==y)\n",
    "#  (or)\n",
    "print(45==40)\n"
   ]
  },
  {
   "cell_type": "code",
   "execution_count": 10,
   "id": "abe3faac",
   "metadata": {},
   "outputs": [
    {
     "name": "stdout",
     "output_type": "stream",
     "text": [
      "False\n",
      "True\n"
     ]
    }
   ],
   "source": [
    "# 6. Not equal to  (!=)\n",
    "x=25\n",
    "y=25\n",
    "print(x!=y)\n",
    "#  (or)\n",
    "print(78!=45)"
   ]
  },
  {
   "cell_type": "code",
   "execution_count": null,
   "id": "25bcc4b1",
   "metadata": {},
   "outputs": [],
   "source": [
    "# 4. Logical operator\n",
    "\n",
    "'''The logical operators are used to combine two boolean expressions. The logical operations\n",
    "   are generally applicable to all objects, and support truth tests, identity tests, and \n",
    "   boolean operations.'''\n",
    "    \n",
    "    \n",
    "# There are three type of logical operator\n",
    "# 1. and\n",
    "# 2. or\n",
    "# 3. not\n",
    "\n",
    "\n",
    "# and operator  (and)\n",
    "# when both condition are true then it will show true else show false.\n",
    "\n",
    "x=10\n",
    "y=12\n",
    "z=20\n",
    "\n",
    "print(x>y and y>z)\n",
    "#   (or)\n",
    "print(45>40 and 12>10)\n",
    "#--------------------------------------------------------------------------------------------------------\n",
    "if x > y and y==z:\n",
    "    print(\"This is true\")\n",
    "else:\n",
    "    print('False')\n",
    "\n",
    "    \n"
   ]
  },
  {
   "cell_type": "code",
   "execution_count": null,
   "id": "31ef3708",
   "metadata": {},
   "outputs": [],
   "source": []
  },
  {
   "cell_type": "code",
   "execution_count": 24,
   "id": "8e0508c6",
   "metadata": {},
   "outputs": [
    {
     "name": "stdout",
     "output_type": "stream",
     "text": [
      "True\n",
      "True\n"
     ]
    }
   ],
   "source": [
    "# 2. or operator\n",
    "# In this operator one condition should we true then it will show true if both condition are \n",
    "# wrong then return false.\n",
    "\n",
    "x=10\n",
    "y=12\n",
    "z=15\n",
    "print(x>y or y<z)\n",
    "# (or)\n",
    "\n",
    "print(12==12 or 12>12)       # One condition should be true\n"
   ]
  },
  {
   "cell_type": "code",
   "execution_count": 26,
   "id": "fa3abc4f",
   "metadata": {},
   "outputs": [
    {
     "name": "stdout",
     "output_type": "stream",
     "text": [
      "True\n",
      "True\n"
     ]
    }
   ],
   "source": [
    "# 3. Not operator\n",
    "#Returns True if an expression evalutes to false and vice-versa\n",
    "\n",
    "x=45\n",
    "y=12\n",
    "print(not x<12)\n",
    "# (or)\n",
    "print(not y>x)\n"
   ]
  },
  {
   "cell_type": "code",
   "execution_count": null,
   "id": "f4f117a5",
   "metadata": {},
   "outputs": [],
   "source": [
    "# 5. Identity operator\n",
    "'''\n",
    "Identity operators are used to compare the objects, not if they are equal,\n",
    "but if they are actually the same object, with the same memory location:\n",
    "\n",
    "Operator\t                Description\t                                Example\t\n",
    "  is \t    Returns true if both variables are the same                  x is y\t\n",
    "  is not\tReturns true if both variables are not the same            x is not y\t\n",
    "'''\n",
    "\n",
    "x=10\n",
    "y=10\n",
    "z=45\n",
    "print(x is y)\n",
    "print(x is not y)\n",
    "\n",
    "if x is not z:\n",
    "    print(\"This Condition is Wrong!\")\n",
    "else:\n",
    "    print(\"True\")"
   ]
  },
  {
   "cell_type": "code",
   "execution_count": null,
   "id": "67ffb1d3",
   "metadata": {},
   "outputs": [],
   "source": [
    "# 6. Membership operator  =>\n",
    "'''\n",
    "Membership operators are used to test if a sequence is presented in an object:\n",
    "\n",
    " Operator\t                  Description\t                                                 Example\n",
    "   in        Returns True if a sequence with the specified value is present in the           x in y\n",
    " not in\t     Returns True if a sequence with the specified value is not present in the obj.  x not in y\n",
    "  '''  \n",
    "\n",
    "x=[12,45,78,89,56,23]\n",
    "print(45 in x)\n",
    "print(78 not in x)\n",
    "    \n",
    "    \n",
    "if 69 in x:\n",
    "    print(\"Present\")\n",
    "else:\n",
    "    print(\"Absent\")\n",
    "    \n",
    "a=[5,4,8,7,9,6,6]\n",
    "b=5\n",
    "if 9 not in x:\n",
    "    print(\"This is true\")\n",
    "else:\n",
    "    print(\"Flase\")"
   ]
  },
  {
   "cell_type": "code",
   "execution_count": null,
   "id": "227ed6ae",
   "metadata": {},
   "outputs": [],
   "source": [
    "# 7. Python Bitwise Operators\n",
    "#Bitwise operators are used to compare (binary) numbers:\n",
    "'''\n",
    "Operator\t Name\t                         Description\n",
    "  &           AND\t                Sets each bit to 1 if both bits are 1\n",
    "  |           OR\t                Sets each bit to 1 if one of two bits is 1\n",
    "  ^\t          XOR\t                Sets each bit to 1 if only one of two bits is 1\n",
    "  ~           NOT\t                Inverts all the bits\n",
    "  <<       Zero fill left shift\t    Shift left by pushing zeros in from the right and let the                                          leftmost bits fall off\n",
    "  >>\t            Signed right shift\t    Shift right by pushing copies of the leftmost bit in from                                         the left, and let the rightmost bits fall off\n",
    "'''\n",
    "\n"
   ]
  },
  {
   "cell_type": "code",
   "execution_count": 1,
   "id": "89f09c28",
   "metadata": {},
   "outputs": [
    {
     "name": "stdout",
     "output_type": "stream",
     "text": [
      "enter any number :45\n",
      "enter second number :78\n",
      "78\n"
     ]
    }
   ],
   "source": [
    "# Few Exercise on this cheptor\n",
    "# Its precticce time\n",
    "\n",
    "#Find the gretest number between two number \n",
    "x=int(input(\"enter any number :\"))\n",
    "y=int(input(\"enter second number :\"))\n",
    "if x>y:\n",
    "    print(x)\n",
    "else:\n",
    "    print(y)"
   ]
  },
  {
   "cell_type": "code",
   "execution_count": 2,
   "id": "2dc9dd88",
   "metadata": {},
   "outputs": [
    {
     "name": "stdout",
     "output_type": "stream",
     "text": [
      "enter the first number :45\n",
      "enter second number : -78\n",
      "enter third number :-56\n",
      "78 Gretest number\n"
     ]
    }
   ],
   "source": [
    "# Find the gretest number between three number\n",
    "\n",
    "x=int(input(\"enter the first number :\"))\n",
    "y=int(input(\"enter second number : -\"))\n",
    "z=int(input(\"enter third number :-\"))\n",
    "if x > y and x > z:\n",
    "    print(x,\"gretest number\")\n",
    "elif y > z and y > x:\n",
    "    print(y,\"Gretest number\")\n",
    "else:\n",
    "    print(z,\"gretest number\")"
   ]
  },
  {
   "cell_type": "code",
   "execution_count": null,
   "id": "00908fff",
   "metadata": {},
   "outputs": [],
   "source": []
  }
 ],
 "metadata": {
  "kernelspec": {
   "display_name": "Python 3 (ipykernel)",
   "language": "python",
   "name": "python3"
  },
  "language_info": {
   "codemirror_mode": {
    "name": "ipython",
    "version": 3
   },
   "file_extension": ".py",
   "mimetype": "text/x-python",
   "name": "python",
   "nbconvert_exporter": "python",
   "pygments_lexer": "ipython3",
   "version": "3.9.12"
  }
 },
 "nbformat": 4,
 "nbformat_minor": 5
}
